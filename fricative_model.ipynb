{
  "nbformat": 4,
  "nbformat_minor": 0,
  "metadata": {
    "colab": {
      "provenance": []
    },
    "kernelspec": {
      "name": "python3",
      "display_name": "Python 3"
    },
    "language_info": {
      "name": "python"
    }
  },
  "cells": [
    {
      "cell_type": "code",
      "execution_count": null,
      "metadata": {
        "id": "_lP8qIRAyIPY"
      },
      "outputs": [],
      "source": [
        "import tensorflow as tf\n",
        "from keras import regularizers\n",
        "from keras.models import Model\n",
        "from keras.layers import Activation\n",
        "from keras.layers import BatchNormalization\n",
        "from keras.layers import Conv1D\n",
        "from keras.layers import GlobalAveragePooling1D\n",
        "from keras.layers import Dense\n",
        "from keras.layers import MaxPooling1D\n",
        "from keras.layers import Softmax\n",
        "from keras.models import Model\n",
        "from keras.layers import Input\n",
        "from keras.layers import Lambda\n",
        "from keras.layers import Add"
      ]
    },
    {
      "cell_type": "code",
      "source": [
        "def FriDNN(input_size):\n",
        "\n",
        "    reg_input = Input(shape=(input_size, 1))\n",
        "\n",
        "    conv1 = Conv1D(48, 32, strides=6, padding='same', kernel_regularizer=regularizers.l2(0.0001), name='conv1_1')(\n",
        "        reg_input)\n",
        "    bn1 = BatchNormalization()(conv1)\n",
        "    act1 = Activation('relu')(bn1)\n",
        "\n",
        "    stage2 = stage_layer_with_shortcuts_pad(act1, 48, 3, 2)\n",
        "\n",
        "    global_avg = GlobalAveragePooling1D()(stage2)\n",
        "\n",
        "    final_output = Dense(3, activation='softmax')(global_avg)\n",
        "\n",
        "    return Model(inputs=reg_input, outputs=final_output)"
      ],
      "metadata": {
        "id": "8jNqzF3nzLr8"
      },
      "execution_count": null,
      "outputs": []
    },
    {
      "cell_type": "code",
      "source": [
        "def stage_layer_with_shortcuts_pad(input_layer, dimension, stride_factor, stage_num):\n",
        "\n",
        "    conv2 = Conv1D(dimension, 8, strides=stride_factor, padding='same', kernel_regularizer=regularizers.l2(0.0001),\n",
        "                   name='conv{}_1'.format(stage_num))(input_layer)\n",
        "    bn2 = BatchNormalization()(conv2)\n",
        "    act2 = Activation('relu')(bn2)\n",
        "\n",
        "    conv3 = Conv1D(dimension, 8, padding='same', kernel_regularizer=regularizers.l2(0.0001),\n",
        "                   name='conv{}_2'.format(stage_num))(act2)\n",
        "    bn3 = BatchNormalization()(conv3)\n",
        "\n",
        "    input_layer = MaxPooling1D(1, stride_factor, padding='same')(input_layer)\n",
        "    input_feature_dim = int(input_layer.shape[2])\n",
        "\n",
        "    if input_feature_dim != int(bn3.shape[2]):\n",
        "\n",
        "        input_layer = Lambda(zero_pad)(input_layer)\n",
        "\n",
        "        if int(input_layer.shape[2]) - int(bn3.shape[2]) == 32:\n",
        "            input_layer = Lambda(get_sliced32)(input_layer)\n",
        "        elif int(input_layer.shape[2]) - int(bn3.shape[2]) == 48:\n",
        "            input_layer = Lambda(get_sliced48)(input_layer)\n",
        "        elif int(input_layer.shape[2]) - int(bn3.shape[2]) == 64:\n",
        "            input_layer = Lambda(get_sliced64)(input_layer)\n",
        "\n",
        "    act3 = Activation('relu')(Add()([bn3, input_layer]))\n",
        "\n",
        "    conv4 = Conv1D(dimension, 8, padding='same', kernel_regularizer=regularizers.l2(0.0001),\n",
        "                   name='conv{}_3'.format(stage_num))(act3)\n",
        "    bn4 = BatchNormalization()(conv4)\n",
        "    act4 = Activation('relu')(bn4)\n",
        "\n",
        "    conv5 = Conv1D(dimension, 8, padding='same', kernel_regularizer=regularizers.l2(0.0001),\n",
        "                   name='conv{}_4'.format(stage_num))(act4)\n",
        "    bn5 = BatchNormalization()(conv5)\n",
        "    act5 = Activation('relu')(Add()([bn5, act3]))\n",
        "\n",
        "    conv6 = Conv1D(dimension, 8, padding='same', kernel_regularizer=regularizers.l2(0.0001),\n",
        "                   name='conv{}_5'.format(stage_num))(act5)\n",
        "    bn6 = BatchNormalization()(conv6)\n",
        "    act6 = Activation('relu')(bn6)\n",
        "\n",
        "    conv7 = Conv1D(dimension, 8, padding='same', kernel_regularizer=regularizers.l2(0.0001),\n",
        "                   name='conv{}_6'.format(stage_num))(act6)\n",
        "    bn7 = BatchNormalization()(conv7)\n",
        "    act7 = Activation('relu')(Add()([bn7, act5]))\n",
        "\n",
        "    return act7"
      ],
      "metadata": {
        "id": "09tAgPAH3o5U"
      },
      "execution_count": null,
      "outputs": []
    },
    {
      "cell_type": "code",
      "source": [
        "def zero_pad(x___):\n",
        "    y = K.zeros_like(x___)\n",
        "    y = K.concatenate([x___, y], axis=-1)\n",
        "    return y"
      ],
      "metadata": {
        "id": "-ApW2Wn03_ll"
      },
      "execution_count": null,
      "outputs": []
    },
    {
      "cell_type": "code",
      "source": [
        "def get_sliced32(x__):\n",
        "    x__ = x__[:, :, :-32]\n",
        "    return x__"
      ],
      "metadata": {
        "id": "9BclGQ_w4UBF"
      },
      "execution_count": null,
      "outputs": []
    },
    {
      "cell_type": "code",
      "source": [
        "def get_sliced48(x__):\n",
        "    x__ = x__[:, :, :-48]\n",
        "    return x__"
      ],
      "metadata": {
        "id": "Bwd8rP4M4UxE"
      },
      "execution_count": null,
      "outputs": []
    },
    {
      "cell_type": "code",
      "source": [
        "def get_sliced64(x__):\n",
        "    x__ = x__[:, :, :-64]\n",
        "    return x__"
      ],
      "metadata": {
        "id": "i9Ljue1u4XiP"
      },
      "execution_count": null,
      "outputs": []
    },
    {
      "cell_type": "code",
      "source": [
        "model = FriDNN(input_size=320)\n",
        "model.summary()"
      ],
      "metadata": {
        "colab": {
          "base_uri": "https://localhost:8080/"
        },
        "id": "rUKPxPWl49o6",
        "outputId": "d40167c4-e276-4a7c-aca5-9110c4868997"
      },
      "execution_count": null,
      "outputs": [
        {
          "output_type": "stream",
          "name": "stdout",
          "text": [
            "Model: \"model\"\n",
            "__________________________________________________________________________________________________\n",
            " Layer (type)                   Output Shape         Param #     Connected to                     \n",
            "==================================================================================================\n",
            " input_1 (InputLayer)           [(None, 320, 1)]     0           []                               \n",
            "                                                                                                  \n",
            " conv1_1 (Conv1D)               (None, 54, 48)       1584        ['input_1[0][0]']                \n",
            "                                                                                                  \n",
            " batch_normalization (BatchNorm  (None, 54, 48)      192         ['conv1_1[0][0]']                \n",
            " alization)                                                                                       \n",
            "                                                                                                  \n",
            " activation (Activation)        (None, 54, 48)       0           ['batch_normalization[0][0]']    \n",
            "                                                                                                  \n",
            " conv2_1 (Conv1D)               (None, 18, 48)       18480       ['activation[0][0]']             \n",
            "                                                                                                  \n",
            " batch_normalization_1 (BatchNo  (None, 18, 48)      192         ['conv2_1[0][0]']                \n",
            " rmalization)                                                                                     \n",
            "                                                                                                  \n",
            " activation_1 (Activation)      (None, 18, 48)       0           ['batch_normalization_1[0][0]']  \n",
            "                                                                                                  \n",
            " conv2_2 (Conv1D)               (None, 18, 48)       18480       ['activation_1[0][0]']           \n",
            "                                                                                                  \n",
            " batch_normalization_2 (BatchNo  (None, 18, 48)      192         ['conv2_2[0][0]']                \n",
            " rmalization)                                                                                     \n",
            "                                                                                                  \n",
            " max_pooling1d (MaxPooling1D)   (None, 18, 48)       0           ['activation[0][0]']             \n",
            "                                                                                                  \n",
            " add (Add)                      (None, 18, 48)       0           ['batch_normalization_2[0][0]',  \n",
            "                                                                  'max_pooling1d[0][0]']          \n",
            "                                                                                                  \n",
            " activation_2 (Activation)      (None, 18, 48)       0           ['add[0][0]']                    \n",
            "                                                                                                  \n",
            " conv2_3 (Conv1D)               (None, 18, 48)       18480       ['activation_2[0][0]']           \n",
            "                                                                                                  \n",
            " batch_normalization_3 (BatchNo  (None, 18, 48)      192         ['conv2_3[0][0]']                \n",
            " rmalization)                                                                                     \n",
            "                                                                                                  \n",
            " activation_3 (Activation)      (None, 18, 48)       0           ['batch_normalization_3[0][0]']  \n",
            "                                                                                                  \n",
            " conv2_4 (Conv1D)               (None, 18, 48)       18480       ['activation_3[0][0]']           \n",
            "                                                                                                  \n",
            " batch_normalization_4 (BatchNo  (None, 18, 48)      192         ['conv2_4[0][0]']                \n",
            " rmalization)                                                                                     \n",
            "                                                                                                  \n",
            " add_1 (Add)                    (None, 18, 48)       0           ['batch_normalization_4[0][0]',  \n",
            "                                                                  'activation_2[0][0]']           \n",
            "                                                                                                  \n",
            " activation_4 (Activation)      (None, 18, 48)       0           ['add_1[0][0]']                  \n",
            "                                                                                                  \n",
            " conv2_5 (Conv1D)               (None, 18, 48)       18480       ['activation_4[0][0]']           \n",
            "                                                                                                  \n",
            " batch_normalization_5 (BatchNo  (None, 18, 48)      192         ['conv2_5[0][0]']                \n",
            " rmalization)                                                                                     \n",
            "                                                                                                  \n",
            " activation_5 (Activation)      (None, 18, 48)       0           ['batch_normalization_5[0][0]']  \n",
            "                                                                                                  \n",
            " conv2_6 (Conv1D)               (None, 18, 48)       18480       ['activation_5[0][0]']           \n",
            "                                                                                                  \n",
            " batch_normalization_6 (BatchNo  (None, 18, 48)      192         ['conv2_6[0][0]']                \n",
            " rmalization)                                                                                     \n",
            "                                                                                                  \n",
            " add_2 (Add)                    (None, 18, 48)       0           ['batch_normalization_6[0][0]',  \n",
            "                                                                  'activation_4[0][0]']           \n",
            "                                                                                                  \n",
            " activation_6 (Activation)      (None, 18, 48)       0           ['add_2[0][0]']                  \n",
            "                                                                                                  \n",
            " global_average_pooling1d (Glob  (None, 48)          0           ['activation_6[0][0]']           \n",
            " alAveragePooling1D)                                                                              \n",
            "                                                                                                  \n",
            " dense (Dense)                  (None, 3)            147         ['global_average_pooling1d[0][0]'\n",
            "                                                                 ]                                \n",
            "                                                                                                  \n",
            "==================================================================================================\n",
            "Total params: 113,955\n",
            "Trainable params: 113,283\n",
            "Non-trainable params: 672\n",
            "__________________________________________________________________________________________________\n"
          ]
        }
      ]
    },
    {
      "cell_type": "code",
      "source": [
        "model.compile(optimizer='Adam',\n",
        "                      loss='categorical_crossentropy', metrics=['accuracy'])"
      ],
      "metadata": {
        "id": "FJkgqLBo5fCv"
      },
      "execution_count": null,
      "outputs": []
    },
    {
      "cell_type": "code",
      "source": [],
      "metadata": {
        "id": "LcS0ec-j50NS"
      },
      "execution_count": null,
      "outputs": []
    }
  ]
}